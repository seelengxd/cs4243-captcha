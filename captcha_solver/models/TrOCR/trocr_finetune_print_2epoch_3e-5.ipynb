{
 "cells": [
  {
   "cell_type": "markdown",
   "metadata": {},
   "source": [
    "- train for 2 epochs, batch size 8, at 3e-5, val already crossed train loss.\n",
    "- i cant seem to find my results.csv for this run :/ but u can see the accuracy run below\n",
    "- 5 epochs gave around 0.71 acc, 0.3 complete matchese but val has long overshot train error\n",
    "i did save the loss for 5 epochs here though\n",
    "\n",
    "- 100%|██████████| 785/785 [09:58<00:00,  1.31it/s] Epoch 1, Train Loss: 1.3030 | Epoch 1, Validation Loss: 0.8815\n",
    "- 100%|██████████| 785/785 [09:30<00:00,  1.38it/s] Epoch 2, Train Loss: 0.8737 | Epoch 2, Validation Loss: 1.0799\n",
    "- 100%|██████████| 785/785 [09:31<00:00,  1.37it/s] Epoch 3, Train Loss: 0.6871 | Epoch 3, Validation Loss: 0.8596\n",
    "- 100%|██████████| 785/785 [09:30<00:00,  1.38it/s] Epoch 4, Train Loss: 0.7726 | Epoch 4, Validation Loss: 0.9323 \n",
    "- 100%|██████████| 785/785 [09:34<00:00,  1.37it/s] Epoch 5, Train Loss: 0.4985 | Epoch 5, Validation Loss: 0.7502"
   ]
  },
  {
   "cell_type": "code",
   "execution_count": null,
   "metadata": {
    "execution": {
     "iopub.execute_input": "2025-04-02T05:11:55.326525Z",
     "iopub.status.busy": "2025-04-02T05:11:55.326298Z",
     "iopub.status.idle": "2025-04-02T05:11:55.332162Z",
     "shell.execute_reply": "2025-04-02T05:11:55.331429Z",
     "shell.execute_reply.started": "2025-04-02T05:11:55.326503Z"
    },
    "trusted": true
   },
   "outputs": [],
   "source": [
    "import matplotlib.pyplot as plt\n",
    "\n",
    "def plot_loss(train_loss, val_loss):\n",
    "    epochs = [i+1 for i in range(len(train_loss))]\n",
    "    plt.figure(figsize=(5, 3))\n",
    "    plt.plot(epochs, train_loss, marker='o', label='Train Loss', color='blue', linestyle='-')\n",
    "    plt.plot(epochs, val_loss, marker='s', label='Validation Loss', color='red', linestyle='--')\n",
    "    plt.xlabel('Epochs')\n",
    "    plt.ylabel('Loss')\n",
    "    plt.title('Training and Validation Loss Over Epochs')\n",
    "    plt.legend()\n",
    "    plt.grid(True)\n",
    "    plt.show()"
   ]
  },
  {
   "cell_type": "code",
   "execution_count": null,
   "metadata": {
    "execution": {
     "iopub.execute_input": "2025-04-02T05:11:55.333121Z",
     "iopub.status.busy": "2025-04-02T05:11:55.332902Z",
     "iopub.status.idle": "2025-04-02T05:11:56.149594Z",
     "shell.execute_reply": "2025-04-02T05:11:56.148836Z",
     "shell.execute_reply.started": "2025-04-02T05:11:55.333101Z"
    },
    "trusted": true
   },
   "outputs": [
    {
     "name": "stdout",
     "output_type": "stream",
     "text": [
      "Train entries: 7833 | Test entries: 1967\n",
      "                                            filename captcha_text\n",
      "0  /kaggle/input/train-colour/train_cleaned_color...        518h3\n",
      "1  /kaggle/input/train-colour/train_cleaned_color...      mdm8bay\n",
      "2  /kaggle/input/train-colour/train_cleaned_color...       529ua9\n",
      "3  /kaggle/input/train-colour/train_cleaned_color...        fl66b\n",
      "4  /kaggle/input/train-colour/train_cleaned_color...       wh2stg\n",
      "                                            filename captcha_text\n",
      "0  /kaggle/input/test-colour/test_cleaned_color_r...      q02a9jk\n",
      "1  /kaggle/input/test-colour/test_cleaned_color_r...     nowqcrpn\n",
      "2  /kaggle/input/test-colour/test_cleaned_color_r...      jpquvw6\n",
      "3  /kaggle/input/test-colour/test_cleaned_color_r...      4edetz3\n",
      "4  /kaggle/input/test-colour/test_cleaned_color_r...       l2dxd3\n"
     ]
    }
   ],
   "source": [
    "import os\n",
    "import pandas as pd\n",
    "from sklearn.model_selection import train_test_split\n",
    "\n",
    "train_c_path = '/kaggle/input/train-colour/train_cleaned_color_resized'\n",
    "test_c_path = '/kaggle/input/test-colour/test_cleaned_color_resized'\n",
    "train_bw_path = '/kaggle/input/train-black1/train_cleaned_black_resized'\n",
    "test_bw_path = '/kaggle/input/test-black/test_cleaned_black_resized'\n",
    "train_c_uc_path = '/kaggle/input/train-unclean-c-resized/train_resized'\n",
    "test_c_uc_path = '/kaggle/input/test-unclean-c-resized/test_resized'\n",
    "\n",
    "train_bw_df = pd.DataFrame(os.listdir(train_bw_path), columns=['filename'])\n",
    "test_bw_df = pd.DataFrame(os.listdir(test_bw_path), columns=['filename'])\n",
    "train_c_df = pd.DataFrame(os.listdir(train_c_path), columns=['filename'])\n",
    "test_c_df = pd.DataFrame(os.listdir(test_c_path), columns=['filename'])\n",
    "train_c_uc_df = pd.DataFrame(os.listdir(train_c_uc_path), columns=['filename'])\n",
    "test_c_uc_df = pd.DataFrame(os.listdir(test_c_uc_path), columns=['filename'])\n",
    "\n",
    "# get labels\n",
    "train_bw_df[\"captcha_text\"] = train_bw_df[\"filename\"].str[:-6]\n",
    "test_bw_df[\"captcha_text\"] = test_bw_df[\"filename\"].str[:-6]\n",
    "train_c_df[\"captcha_text\"] = train_c_df[\"filename\"].str[:-6]\n",
    "test_c_df[\"captcha_text\"] = test_c_df[\"filename\"].str[:-6]\n",
    "train_c_uc_df[\"captcha_text\"] = train_c_uc_df[\"filename\"].str[:-6]\n",
    "test_c_uc_df[\"captcha_text\"] = test_c_uc_df[\"filename\"].str[:-6]\n",
    "\n",
    "# get complete file path\n",
    "train_bw_df['filename'] = train_bw_df['filename'].apply(lambda x: os.path.join(train_bw_path, x))\n",
    "test_bw_df['filename'] = test_bw_df['filename'].apply(lambda x: os.path.join(test_bw_path, x))\n",
    "train_c_df['filename'] = train_c_df['filename'].apply(lambda x: os.path.join(train_c_path, x))\n",
    "test_c_df['filename'] = test_c_df['filename'].apply(lambda x: os.path.join(test_c_path, x))\n",
    "train_c_uc_df['filename'] = train_c_uc_df['filename'].apply(lambda x: os.path.join(train_c_uc_path, x))\n",
    "test_c_uc_df['filename'] = test_c_uc_df['filename'].apply(lambda x: os.path.join(test_c_uc_path, x))\n",
    "\n",
    "# # combine bw and colour\n",
    "train_df = pd.concat([train_c_df], ignore_index=True)\n",
    "test_df = pd.concat([test_c_df], ignore_index=True)\n",
    "\n",
    "# # clean duplicates\n",
    "train_df = train_df[~train_df[\"filename\"].str.endswith(\"(1).png\")]\n",
    "test_df = test_df[~test_df[\"filename\"].str.endswith(\"_Store\")]\n",
    "\n",
    "# # print to check\n",
    "print(f'Train entries: {train_df.shape[0]} | Test entries: {test_df.shape[0]}')\n",
    "print(train_df.head()) #shld be\n",
    "print(test_df.head()) #shld be"
   ]
  },
  {
   "cell_type": "code",
   "execution_count": 3,
   "metadata": {
    "execution": {
     "iopub.execute_input": "2025-04-02T05:11:56.150906Z",
     "iopub.status.busy": "2025-04-02T05:11:56.150452Z",
     "iopub.status.idle": "2025-04-02T05:12:09.987768Z",
     "shell.execute_reply": "2025-04-02T05:12:09.986881Z",
     "shell.execute_reply.started": "2025-04-02T05:11:56.150880Z"
    },
    "scrolled": true,
    "trusted": true
   },
   "outputs": [
    {
     "name": "stderr",
     "output_type": "stream",
     "text": [
      "Config of the encoder: <class 'transformers.models.vit.modeling_vit.ViTModel'> is overwritten by shared encoder config: ViTConfig {\n",
      "  \"attention_probs_dropout_prob\": 0.0,\n",
      "  \"encoder_stride\": 16,\n",
      "  \"hidden_act\": \"gelu\",\n",
      "  \"hidden_dropout_prob\": 0.0,\n",
      "  \"hidden_size\": 768,\n",
      "  \"image_size\": 384,\n",
      "  \"initializer_range\": 0.02,\n",
      "  \"intermediate_size\": 3072,\n",
      "  \"layer_norm_eps\": 1e-12,\n",
      "  \"model_type\": \"vit\",\n",
      "  \"num_attention_heads\": 12,\n",
      "  \"num_channels\": 3,\n",
      "  \"num_hidden_layers\": 12,\n",
      "  \"patch_size\": 16,\n",
      "  \"qkv_bias\": false,\n",
      "  \"transformers_version\": \"4.47.0\"\n",
      "}\n",
      "\n",
      "Config of the decoder: <class 'transformers.models.trocr.modeling_trocr.TrOCRForCausalLM'> is overwritten by shared decoder config: TrOCRConfig {\n",
      "  \"activation_dropout\": 0.0,\n",
      "  \"activation_function\": \"gelu\",\n",
      "  \"add_cross_attention\": true,\n",
      "  \"attention_dropout\": 0.0,\n",
      "  \"bos_token_id\": 0,\n",
      "  \"classifier_dropout\": 0.0,\n",
      "  \"cross_attention_hidden_size\": 768,\n",
      "  \"d_model\": 1024,\n",
      "  \"decoder_attention_heads\": 16,\n",
      "  \"decoder_ffn_dim\": 4096,\n",
      "  \"decoder_layerdrop\": 0.0,\n",
      "  \"decoder_layers\": 12,\n",
      "  \"decoder_start_token_id\": 2,\n",
      "  \"dropout\": 0.1,\n",
      "  \"eos_token_id\": 2,\n",
      "  \"init_std\": 0.02,\n",
      "  \"is_decoder\": true,\n",
      "  \"layernorm_embedding\": true,\n",
      "  \"max_position_embeddings\": 512,\n",
      "  \"model_type\": \"trocr\",\n",
      "  \"pad_token_id\": 1,\n",
      "  \"scale_embedding\": false,\n",
      "  \"transformers_version\": \"4.47.0\",\n",
      "  \"use_cache\": false,\n",
      "  \"use_learned_position_embeddings\": true,\n",
      "  \"vocab_size\": 50265\n",
      "}\n",
      "\n",
      "Some weights of VisionEncoderDecoderModel were not initialized from the model checkpoint at microsoft/trocr-base-printed and are newly initialized: ['encoder.pooler.dense.bias', 'encoder.pooler.dense.weight']\n",
      "You should probably TRAIN this model on a down-stream task to be able to use it for predictions and inference.\n"
     ]
    },
    {
     "name": "stdout",
     "output_type": "stream",
     "text": [
      "using device: cuda\n"
     ]
    }
   ],
   "source": [
    "from transformers import TrOCRProcessor, VisionEncoderDecoderModel\n",
    "import requests\n",
    "from PIL import Image\n",
    "import torch\n",
    "\n",
    "processor = TrOCRProcessor.from_pretrained('microsoft/trocr-base-printed') #microsoft/trocr-base-handwritten\n",
    "model = VisionEncoderDecoderModel.from_pretrained('microsoft/trocr-base-printed')\n",
    "\n",
    "device = torch.device(\"cuda\" if torch.cuda.is_available() else \"cpu\")\n",
    "model.to(device)\n",
    "print(f'using device: {device}')\n",
    "\n",
    "# training\n",
    "model.config.decoder_start_token_id = processor.tokenizer.cls_token_id\n",
    "model.config.pad_token_id = processor.tokenizer.pad_token_id\n",
    "model.config.vocab_size = model.config.decoder.vocab_size"
   ]
  },
  {
   "cell_type": "code",
   "execution_count": null,
   "metadata": {
    "execution": {
     "iopub.execute_input": "2025-04-02T05:12:09.989023Z",
     "iopub.status.busy": "2025-04-02T05:12:09.988511Z",
     "iopub.status.idle": "2025-04-02T05:12:09.997423Z",
     "shell.execute_reply": "2025-04-02T05:12:09.996802Z",
     "shell.execute_reply.started": "2025-04-02T05:12:09.988988Z"
    },
    "trusted": true
   },
   "outputs": [],
   "source": [
    "from torch.utils.data import Dataset\n",
    "from PIL import Image\n",
    "from torch.utils.data import DataLoader, random_split\n",
    "from torch.nn.utils.rnn import pad_sequence\n",
    "\n",
    "\n",
    "# set df here\n",
    "df = train_df\n",
    "\n",
    "class CaptchaDataset(Dataset):\n",
    "    def __init__(self, df, processor):\n",
    "        self.df = df\n",
    "        self.processor = processor\n",
    "\n",
    "    def __len__(self):\n",
    "        return len(self.df)\n",
    "\n",
    "    def __getitem__(self, idx):\n",
    "        row = self.df.iloc[idx]\n",
    "        image = Image.open(row['filename']).convert(\"RGB\")\n",
    "        text = row['captcha_text']\n",
    "\n",
    "        pixel_values = self.processor(image, return_tensors=\"pt\").pixel_values.squeeze(0)\n",
    "        labels = self.processor.tokenizer(text, return_tensors=\"pt\").input_ids.squeeze(0)\n",
    "        return {\"pixel_values\": pixel_values, \"labels\": labels}\n",
    "\n",
    "\n",
    "def collate_fn(batch):\n",
    "    pixel_values = torch.stack([item[\"pixel_values\"] for item in batch])\n",
    "    labels = [item[\"labels\"] for item in batch]\n",
    "    labels_padded = pad_sequence(labels, batch_first=True, padding_value=processor.tokenizer.pad_token_id)\n",
    "\n",
    "    return {\"pixel_values\": pixel_values, \"labels\": labels_padded}\n",
    "\n",
    "dataset = CaptchaDataset(df, processor)\n",
    "\n",
    "train_size = int(0.8 * len(dataset))\n",
    "train_dataset, val_dataset = random_split(dataset, [train_size, len(dataset) - train_size])\n",
    "train_loader = DataLoader(train_dataset, batch_size=8, shuffle=True, collate_fn=collate_fn)\n",
    "val_loader = DataLoader(val_dataset, batch_size=8, collate_fn=collate_fn)\n"
   ]
  },
  {
   "cell_type": "code",
   "execution_count": 5,
   "metadata": {
    "execution": {
     "iopub.execute_input": "2025-04-02T05:12:09.999367Z",
     "iopub.status.busy": "2025-04-02T05:12:09.999146Z",
     "iopub.status.idle": "2025-04-02T05:12:10.023287Z",
     "shell.execute_reply": "2025-04-02T05:12:10.022497Z",
     "shell.execute_reply.started": "2025-04-02T05:12:09.999350Z"
    },
    "trusted": true
   },
   "outputs": [
    {
     "data": {
      "text/plain": [
       "6266"
      ]
     },
     "execution_count": 5,
     "metadata": {},
     "output_type": "execute_result"
    }
   ],
   "source": [
    "len(train_dataset)"
   ]
  },
  {
   "cell_type": "code",
   "execution_count": null,
   "metadata": {
    "execution": {
     "iopub.execute_input": "2025-04-02T05:12:10.024672Z",
     "iopub.status.busy": "2025-04-02T05:12:10.024375Z",
     "iopub.status.idle": "2025-04-02T05:49:43.973493Z",
     "shell.execute_reply": "2025-04-02T05:49:43.972796Z",
     "shell.execute_reply.started": "2025-04-02T05:12:10.024652Z"
    },
    "trusted": true
   },
   "outputs": [
    {
     "name": "stderr",
     "output_type": "stream",
     "text": [
      "/usr/local/lib/python3.10/dist-packages/transformers/optimization.py:591: FutureWarning: This implementation of AdamW is deprecated and will be removed in a future version. Use the PyTorch implementation torch.optim.AdamW instead, or set `no_deprecation_warning=True` to disable this warning\n",
      "  warnings.warn(\n"
     ]
    },
    {
     "name": "stdout",
     "output_type": "stream",
     "text": [
      "starting epoch 1, s to stop execution \n"
     ]
    },
    {
     "name": "stderr",
     "output_type": "stream",
     "text": [
      "100%|██████████| 784/784 [17:03<00:00,  1.31s/it]\n"
     ]
    },
    {
     "name": "stdout",
     "output_type": "stream",
     "text": [
      "Epoch 1, Train Loss: 1.0203\n",
      "Epoch 1, Validation Loss: 0.6869\n"
     ]
    },
    {
     "data": {
      "image/png": "[encoded data removed]",
      "text/plain": [
       "<Figure size 500x300 with 1 Axes>"
      ]
     },
     "metadata": {},
     "output_type": "display_data"
    },
    {
     "name": "stdout",
     "output_type": "stream",
     "text": [
      "starting epoch 2, s to stop execution \n"
     ]
    },
    {
     "name": "stderr",
     "output_type": "stream",
     "text": [
      "100%|██████████| 784/784 [17:05<00:00,  1.31s/it]\n"
     ]
    },
    {
     "name": "stdout",
     "output_type": "stream",
     "text": [
      "Epoch 2, Train Loss: 0.5064\n",
      "Epoch 2, Validation Loss: 0.5654\n"
     ]
    },
    {
     "data": {
      "image/png": "[encoded data removed]",
      "text/plain": [
       "<Figure size 500x300 with 1 Axes>"
      ]
     },
     "metadata": {},
     "output_type": "display_data"
    },
    {
     "name": "stdout",
     "output_type": "stream",
     "text": [
      "starting epoch 3, s to stop execution s\n"
     ]
    }
   ],
   "source": [
    "from transformers import AdamW, get_scheduler\n",
    "from tqdm import tqdm\n",
    "import torch\n",
    "\n",
    "optimizer = AdamW(model.parameters(), lr=3e-5) #lower learning rate\n",
    "epochs = 15\n",
    "\n",
    "tl_store = []\n",
    "vl_store = []\n",
    "\n",
    "for epoch in range(epochs):\n",
    "    action = input(f\"starting epoch {epoch+1}, s to stop execution\")\n",
    "    if action == \"s\":\n",
    "        break\n",
    "\n",
    "    model.train()\n",
    "    train_loss = 0\n",
    "\n",
    "    for batch in tqdm(train_loader):\n",
    "        optimizer.zero_grad()\n",
    "\n",
    "        pixel_values = batch[\"pixel_values\"].to(device)\n",
    "        labels = batch[\"labels\"].to(device)\n",
    "        # print(pixel_values.shape)\n",
    "        # print(pixel_values)\n",
    "\n",
    "        outputs = model(pixel_values=pixel_values, labels=labels)\n",
    "        loss = outputs.loss\n",
    "        loss.backward()\n",
    "        optimizer.step()\n",
    "\n",
    "        train_loss += loss.item()\n",
    "\n",
    "    avg_train_loss = train_loss / len(train_loader)\n",
    "\n",
    "    # Validation Step\n",
    "    model.eval()\n",
    "    with torch.no_grad():\n",
    "        val_loss = 0\n",
    "        for batch in val_loader:\n",
    "            pixel_values = batch[\"pixel_values\"].to(device)\n",
    "            labels = batch[\"labels\"].to(device)\n",
    "\n",
    "            outputs = model(pixel_values=pixel_values, labels=labels)\n",
    "            val_loss += outputs.loss.item()\n",
    "\n",
    "        avg_val_loss = val_loss / len(val_loader)\n",
    "\n",
    "    print(f\"Epoch {epoch+1}, Train Loss: {avg_train_loss:.4f}\")\n",
    "    print(f\"Epoch {epoch+1}, Validation Loss: {avg_val_loss:.4f}\")\n",
    "    tl_store.append(avg_train_loss)\n",
    "    vl_store.append(avg_val_loss)\n",
    "    plot_loss(tl_store, vl_store)\n"
   ]
  },
  {
   "cell_type": "code",
   "execution_count": null,
   "metadata": {
    "execution": {
     "iopub.execute_input": "2025-04-02T05:52:49.653064Z",
     "iopub.status.busy": "2025-04-02T05:52:49.652682Z",
     "iopub.status.idle": "2025-04-02T05:57:03.564242Z",
     "shell.execute_reply": "2025-04-02T05:57:03.563188Z",
     "shell.execute_reply.started": "2025-04-02T05:52:49.653037Z"
    },
    "trusted": true
   },
   "outputs": [
    {
     "data": {
      "application/vnd.jupyter.widget-view+json": {
       "model_id": "d61709bf06044f12865d4fc42964ca06",
       "version_major": 2,
       "version_minor": 0
      },
      "text/plain": [
       "  0%|          | 0/123 [00:00<?, ?it/s]"
      ]
     },
     "metadata": {},
     "output_type": "display_data"
    }
   ],
   "source": [
    "import torch\n",
    "from tqdm.auto import tqdm\n",
    "\n",
    "tqdm.pandas()\n",
    "device = torch.device(\"cuda\" if torch.cuda.is_available() else \"cpu\")\n",
    "model.to(device)\n",
    "\n",
    "def predict_batch(file_paths):\n",
    "    images = [Image.open(fp).convert(\"RGB\") for fp in file_paths]\n",
    "    pixel_values = processor(images, return_tensors=\"pt\", padding=True).pixel_values.to(device)\n",
    "    generated_ids = model.generate(pixel_values)\n",
    "    generated_texts = processor.batch_decode(generated_ids, skip_special_tokens=True)\n",
    "\n",
    "    return generated_texts\n",
    "\n",
    "batch_size = 16\n",
    "predictions = []\n",
    "\n",
    "for i in tqdm(range(0, len(test_bw_df), batch_size)):\n",
    "    batch_files = test_bw_df['filename'][i:i+batch_size].tolist()\n",
    "    batch_preds = predict_batch(batch_files)\n",
    "    predictions.extend(batch_preds)\n",
    "\n",
    "test_df['predicted_text_printed'] = predictions\n"
   ]
  },
  {
   "cell_type": "code",
   "execution_count": 10,
   "metadata": {
    "execution": {
     "iopub.execute_input": "2025-04-02T05:57:15.939096Z",
     "iopub.status.busy": "2025-04-02T05:57:15.938810Z",
     "iopub.status.idle": "2025-04-02T05:57:15.950336Z",
     "shell.execute_reply": "2025-04-02T05:57:15.949619Z",
     "shell.execute_reply.started": "2025-04-02T05:57:15.939076Z"
    },
    "trusted": true
   },
   "outputs": [
    {
     "data": {
      "text/html": [
       "<div>\n",
       "<style scoped>\n",
       "    .dataframe tbody tr th:only-of-type {\n",
       "        vertical-align: middle;\n",
       "    }\n",
       "\n",
       "    .dataframe tbody tr th {\n",
       "        vertical-align: top;\n",
       "    }\n",
       "\n",
       "    .dataframe thead th {\n",
       "        text-align: right;\n",
       "    }\n",
       "</style>\n",
       "<table border=\"1\" class=\"dataframe\">\n",
       "  <thead>\n",
       "    <tr style=\"text-align: right;\">\n",
       "      <th></th>\n",
       "      <th>filename</th>\n",
       "      <th>captcha_text</th>\n",
       "      <th>predicted_text_printed</th>\n",
       "    </tr>\n",
       "  </thead>\n",
       "  <tbody>\n",
       "    <tr>\n",
       "      <th>0</th>\n",
       "      <td>/kaggle/input/test-colour/test_cleaned_color_r...</td>\n",
       "      <td>q02a9jk</td>\n",
       "      <td>qo1a1r</td>\n",
       "    </tr>\n",
       "    <tr>\n",
       "      <th>1</th>\n",
       "      <td>/kaggle/input/test-colour/test_cleaned_color_r...</td>\n",
       "      <td>nowqcrpn</td>\n",
       "      <td>nowqcrpn</td>\n",
       "    </tr>\n",
       "    <tr>\n",
       "      <th>2</th>\n",
       "      <td>/kaggle/input/test-colour/test_cleaned_color_r...</td>\n",
       "      <td>jpquvw6</td>\n",
       "      <td>jpuvw6</td>\n",
       "    </tr>\n",
       "    <tr>\n",
       "      <th>3</th>\n",
       "      <td>/kaggle/input/test-colour/test_cleaned_color_r...</td>\n",
       "      <td>4edetz3</td>\n",
       "      <td>4edetz3</td>\n",
       "    </tr>\n",
       "    <tr>\n",
       "      <th>4</th>\n",
       "      <td>/kaggle/input/test-colour/test_cleaned_color_r...</td>\n",
       "      <td>l2dxd3</td>\n",
       "      <td>l2dxd3</td>\n",
       "    </tr>\n",
       "    <tr>\n",
       "      <th>...</th>\n",
       "      <td>...</td>\n",
       "      <td>...</td>\n",
       "      <td>...</td>\n",
       "    </tr>\n",
       "    <tr>\n",
       "      <th>1962</th>\n",
       "      <td>/kaggle/input/test-colour/test_cleaned_color_r...</td>\n",
       "      <td>o1s3al0</td>\n",
       "      <td>o1a3al0</td>\n",
       "    </tr>\n",
       "    <tr>\n",
       "      <th>1963</th>\n",
       "      <td>/kaggle/input/test-colour/test_cleaned_color_r...</td>\n",
       "      <td>x4ou7j</td>\n",
       "      <td>xqou1j</td>\n",
       "    </tr>\n",
       "    <tr>\n",
       "      <th>1964</th>\n",
       "      <td>/kaggle/input/test-colour/test_cleaned_color_r...</td>\n",
       "      <td>lzjyzk9n</td>\n",
       "      <td>1zjyzk9v</td>\n",
       "    </tr>\n",
       "    <tr>\n",
       "      <th>1965</th>\n",
       "      <td>/kaggle/input/test-colour/test_cleaned_color_r...</td>\n",
       "      <td>w7na</td>\n",
       "      <td>w7na</td>\n",
       "    </tr>\n",
       "    <tr>\n",
       "      <th>1966</th>\n",
       "      <td>/kaggle/input/test-colour/test_cleaned_color_r...</td>\n",
       "      <td>hljv6</td>\n",
       "      <td>klfab</td>\n",
       "    </tr>\n",
       "  </tbody>\n",
       "</table>\n",
       "<p>1967 rows × 3 columns</p>\n",
       "</div>"
      ],
      "text/plain": [
       "                                               filename captcha_text  \\\n",
       "0     /kaggle/input/test-colour/test_cleaned_color_r...      q02a9jk   \n",
       "1     /kaggle/input/test-colour/test_cleaned_color_r...     nowqcrpn   \n",
       "2     /kaggle/input/test-colour/test_cleaned_color_r...      jpquvw6   \n",
       "3     /kaggle/input/test-colour/test_cleaned_color_r...      4edetz3   \n",
       "4     /kaggle/input/test-colour/test_cleaned_color_r...       l2dxd3   \n",
       "...                                                 ...          ...   \n",
       "1962  /kaggle/input/test-colour/test_cleaned_color_r...      o1s3al0   \n",
       "1963  /kaggle/input/test-colour/test_cleaned_color_r...       x4ou7j   \n",
       "1964  /kaggle/input/test-colour/test_cleaned_color_r...     lzjyzk9n   \n",
       "1965  /kaggle/input/test-colour/test_cleaned_color_r...         w7na   \n",
       "1966  /kaggle/input/test-colour/test_cleaned_color_r...        hljv6   \n",
       "\n",
       "     predicted_text_printed  \n",
       "0                    qo1a1r  \n",
       "1                  nowqcrpn  \n",
       "2                    jpuvw6  \n",
       "3                   4edetz3  \n",
       "4                    l2dxd3  \n",
       "...                     ...  \n",
       "1962                o1a3al0  \n",
       "1963                 xqou1j  \n",
       "1964               1zjyzk9v  \n",
       "1965                   w7na  \n",
       "1966                  klfab  \n",
       "\n",
       "[1967 rows x 3 columns]"
      ]
     },
     "execution_count": 10,
     "metadata": {},
     "output_type": "execute_result"
    }
   ],
   "source": [
    "test_df"
   ]
  },
  {
   "cell_type": "code",
   "execution_count": 13,
   "metadata": {
    "execution": {
     "iopub.execute_input": "2025-04-02T05:57:50.160033Z",
     "iopub.status.busy": "2025-04-02T05:57:50.159717Z",
     "iopub.status.idle": "2025-04-02T05:57:50.169683Z",
     "shell.execute_reply": "2025-04-02T05:57:50.168882Z",
     "shell.execute_reply.started": "2025-04-02T05:57:50.160010Z"
    },
    "trusted": true
   },
   "outputs": [],
   "source": [
    "test_df.to_csv(\"predictions_c_train_stag1.csv\", index=False)"
   ]
  },
  {
   "cell_type": "code",
   "execution_count": 22,
   "metadata": {
    "execution": {
     "iopub.execute_input": "2025-04-02T05:59:11.695664Z",
     "iopub.status.busy": "2025-04-02T05:59:11.695361Z",
     "iopub.status.idle": "2025-04-02T05:59:14.356702Z",
     "shell.execute_reply": "2025-04-02T05:59:14.355824Z",
     "shell.execute_reply.started": "2025-04-02T05:59:11.695642Z"
    },
    "trusted": true
   },
   "outputs": [
    {
     "data": {
      "text/plain": [
       "[]"
      ]
     },
     "execution_count": 22,
     "metadata": {},
     "output_type": "execute_result"
    }
   ],
   "source": [
    "model.save_pretrained(\"trocr_captcha_model\")\n",
    "processor.save_pretrained(\"trocr_captcha_model\")"
   ]
  },
  {
   "cell_type": "code",
   "execution_count": 23,
   "metadata": {
    "execution": {
     "iopub.execute_input": "2025-04-02T05:59:16.611142Z",
     "iopub.status.busy": "2025-04-02T05:59:16.610827Z",
     "iopub.status.idle": "2025-04-02T06:00:23.063829Z",
     "shell.execute_reply": "2025-04-02T06:00:23.063048Z",
     "shell.execute_reply.started": "2025-04-02T05:59:16.611114Z"
    },
    "trusted": true
   },
   "outputs": [
    {
     "data": {
      "text/plain": [
       "'/kaggle/working/trocr_captcha_model.zip'"
      ]
     },
     "execution_count": 23,
     "metadata": {},
     "output_type": "execute_result"
    }
   ],
   "source": [
    "import shutil\n",
    "\n",
    "shutil.make_archive(\"trocr_captcha_model\", 'zip', \"trocr_captcha_model\")"
   ]
  },
  {
   "cell_type": "code",
   "execution_count": 14,
   "metadata": {
    "execution": {
     "iopub.execute_input": "2025-04-02T05:57:52.995241Z",
     "iopub.status.busy": "2025-04-02T05:57:52.994951Z",
     "iopub.status.idle": "2025-04-02T05:57:53.009818Z",
     "shell.execute_reply": "2025-04-02T05:57:53.009015Z",
     "shell.execute_reply.started": "2025-04-02T05:57:52.995216Z"
    },
    "trusted": true
   },
   "outputs": [
    {
     "data": {
      "text/html": [
       "<div>\n",
       "<style scoped>\n",
       "    .dataframe tbody tr th:only-of-type {\n",
       "        vertical-align: middle;\n",
       "    }\n",
       "\n",
       "    .dataframe tbody tr th {\n",
       "        vertical-align: top;\n",
       "    }\n",
       "\n",
       "    .dataframe thead th {\n",
       "        text-align: right;\n",
       "    }\n",
       "</style>\n",
       "<table border=\"1\" class=\"dataframe\">\n",
       "  <thead>\n",
       "    <tr style=\"text-align: right;\">\n",
       "      <th></th>\n",
       "      <th>filename</th>\n",
       "      <th>captcha_text</th>\n",
       "      <th>predicted_text_printed</th>\n",
       "    </tr>\n",
       "  </thead>\n",
       "  <tbody>\n",
       "    <tr>\n",
       "      <th>0</th>\n",
       "      <td>/kaggle/input/test-colour/test_cleaned_color_r...</td>\n",
       "      <td>q02a9jk</td>\n",
       "      <td>qo1a1r</td>\n",
       "    </tr>\n",
       "    <tr>\n",
       "      <th>1</th>\n",
       "      <td>/kaggle/input/test-colour/test_cleaned_color_r...</td>\n",
       "      <td>nowqcrpn</td>\n",
       "      <td>nowqcrpn</td>\n",
       "    </tr>\n",
       "    <tr>\n",
       "      <th>2</th>\n",
       "      <td>/kaggle/input/test-colour/test_cleaned_color_r...</td>\n",
       "      <td>jpquvw6</td>\n",
       "      <td>jpuvw6</td>\n",
       "    </tr>\n",
       "    <tr>\n",
       "      <th>3</th>\n",
       "      <td>/kaggle/input/test-colour/test_cleaned_color_r...</td>\n",
       "      <td>4edetz3</td>\n",
       "      <td>4edetz3</td>\n",
       "    </tr>\n",
       "    <tr>\n",
       "      <th>4</th>\n",
       "      <td>/kaggle/input/test-colour/test_cleaned_color_r...</td>\n",
       "      <td>l2dxd3</td>\n",
       "      <td>l2dxd3</td>\n",
       "    </tr>\n",
       "    <tr>\n",
       "      <th>...</th>\n",
       "      <td>...</td>\n",
       "      <td>...</td>\n",
       "      <td>...</td>\n",
       "    </tr>\n",
       "    <tr>\n",
       "      <th>1962</th>\n",
       "      <td>/kaggle/input/test-colour/test_cleaned_color_r...</td>\n",
       "      <td>o1s3al0</td>\n",
       "      <td>o1a3al0</td>\n",
       "    </tr>\n",
       "    <tr>\n",
       "      <th>1963</th>\n",
       "      <td>/kaggle/input/test-colour/test_cleaned_color_r...</td>\n",
       "      <td>x4ou7j</td>\n",
       "      <td>xqou1j</td>\n",
       "    </tr>\n",
       "    <tr>\n",
       "      <th>1964</th>\n",
       "      <td>/kaggle/input/test-colour/test_cleaned_color_r...</td>\n",
       "      <td>lzjyzk9n</td>\n",
       "      <td>1zjyzk9v</td>\n",
       "    </tr>\n",
       "    <tr>\n",
       "      <th>1965</th>\n",
       "      <td>/kaggle/input/test-colour/test_cleaned_color_r...</td>\n",
       "      <td>w7na</td>\n",
       "      <td>w7na</td>\n",
       "    </tr>\n",
       "    <tr>\n",
       "      <th>1966</th>\n",
       "      <td>/kaggle/input/test-colour/test_cleaned_color_r...</td>\n",
       "      <td>hljv6</td>\n",
       "      <td>klfab</td>\n",
       "    </tr>\n",
       "  </tbody>\n",
       "</table>\n",
       "<p>1967 rows × 3 columns</p>\n",
       "</div>"
      ],
      "text/plain": [
       "                                               filename captcha_text  \\\n",
       "0     /kaggle/input/test-colour/test_cleaned_color_r...      q02a9jk   \n",
       "1     /kaggle/input/test-colour/test_cleaned_color_r...     nowqcrpn   \n",
       "2     /kaggle/input/test-colour/test_cleaned_color_r...      jpquvw6   \n",
       "3     /kaggle/input/test-colour/test_cleaned_color_r...      4edetz3   \n",
       "4     /kaggle/input/test-colour/test_cleaned_color_r...       l2dxd3   \n",
       "...                                                 ...          ...   \n",
       "1962  /kaggle/input/test-colour/test_cleaned_color_r...      o1s3al0   \n",
       "1963  /kaggle/input/test-colour/test_cleaned_color_r...       x4ou7j   \n",
       "1964  /kaggle/input/test-colour/test_cleaned_color_r...     lzjyzk9n   \n",
       "1965  /kaggle/input/test-colour/test_cleaned_color_r...         w7na   \n",
       "1966  /kaggle/input/test-colour/test_cleaned_color_r...        hljv6   \n",
       "\n",
       "     predicted_text_printed  \n",
       "0                    qo1a1r  \n",
       "1                  nowqcrpn  \n",
       "2                    jpuvw6  \n",
       "3                   4edetz3  \n",
       "4                    l2dxd3  \n",
       "...                     ...  \n",
       "1962                o1a3al0  \n",
       "1963                 xqou1j  \n",
       "1964               1zjyzk9v  \n",
       "1965                   w7na  \n",
       "1966                  klfab  \n",
       "\n",
       "[1967 rows x 3 columns]"
      ]
     },
     "execution_count": 14,
     "metadata": {},
     "output_type": "execute_result"
    }
   ],
   "source": [
    "import pandas as pd\n",
    "file = \"/kaggle/working/predictions_c_train_stag1.csv\"\n",
    "df = pd.read_csv(file, sep=\",\")\n",
    "df"
   ]
  },
  {
   "cell_type": "code",
   "execution_count": 15,
   "metadata": {
    "execution": {
     "iopub.execute_input": "2025-04-02T05:57:57.637221Z",
     "iopub.status.busy": "2025-04-02T05:57:57.636906Z",
     "iopub.status.idle": "2025-04-02T05:57:57.646068Z",
     "shell.execute_reply": "2025-04-02T05:57:57.645133Z",
     "shell.execute_reply.started": "2025-04-02T05:57:57.637196Z"
    },
    "trusted": true
   },
   "outputs": [
    {
     "data": {
      "text/plain": [
       "1"
      ]
     },
     "execution_count": 15,
     "metadata": {},
     "output_type": "execute_result"
    }
   ],
   "source": [
    "len(df[df[\"predicted_text_printed\"].apply(lambda text: any(c.isupper() or not c.isalnum() for c in text))])"
   ]
  },
  {
   "cell_type": "code",
   "execution_count": null,
   "metadata": {
    "execution": {
     "iopub.execute_input": "2025-04-02T05:58:01.342927Z",
     "iopub.status.busy": "2025-04-02T05:58:01.342570Z",
     "iopub.status.idle": "2025-04-02T05:58:01.452603Z",
     "shell.execute_reply": "2025-04-02T05:58:01.451697Z",
     "shell.execute_reply.started": "2025-04-02T05:58:01.342895Z"
    },
    "trusted": true
   },
   "outputs": [
    {
     "name": "stdout",
     "output_type": "stream",
     "text": [
      "  captcha_text predicted_text_printed  chr_acc\n",
      "0      q02a9jk                 qo1a1r        2\n",
      "1     nowqcrpn               nowqcrpn        8\n",
      "2      jpquvw6                 jpuvw6        2\n",
      "3      4edetz3                4edetz3        7\n",
      "4       l2dxd3                 l2dxd3        6\n"
     ]
    }
   ],
   "source": [
    "def character_accuracy(actual, predicted):\n",
    "    min_len = min(len(actual), len(predicted))\n",
    "    correct = sum([1 if actual[i] == predicted[i] else 0 for i in range(min_len)])\n",
    "    return correct\n",
    "\n",
    "chr_acc = [character_accuracy(row['captcha_text'], row['predicted_text_printed']) for _, row in df.iterrows()]\n",
    "df['chr_acc'] = chr_acc\n",
    "\n",
    "print(df[['captcha_text', 'predicted_text_printed', 'chr_acc', ]].head())\n"
   ]
  },
  {
   "cell_type": "code",
   "execution_count": 17,
   "metadata": {
    "execution": {
     "iopub.execute_input": "2025-04-02T05:58:04.320804Z",
     "iopub.status.busy": "2025-04-02T05:58:04.320467Z",
     "iopub.status.idle": "2025-04-02T05:58:04.326716Z",
     "shell.execute_reply": "2025-04-02T05:58:04.326034Z",
     "shell.execute_reply.started": "2025-04-02T05:58:04.320779Z"
    },
    "trusted": true
   },
   "outputs": [
    {
     "name": "stdout",
     "output_type": "stream",
     "text": [
      "chr_acc: 0.7698170731707317\n"
     ]
    }
   ],
   "source": [
    "sum_chr_acc = df['chr_acc'].sum()\n",
    "sum_len_captcha_text = df['captcha_text'].apply(len).sum()\n",
    "\n",
    "print(f\"chr_acc: {sum_chr_acc /sum_len_captcha_text}\")"
   ]
  },
  {
   "cell_type": "code",
   "execution_count": 18,
   "metadata": {
    "execution": {
     "iopub.execute_input": "2025-04-02T05:58:11.738511Z",
     "iopub.status.busy": "2025-04-02T05:58:11.738181Z",
     "iopub.status.idle": "2025-04-02T05:58:11.743891Z",
     "shell.execute_reply": "2025-04-02T05:58:11.742972Z",
     "shell.execute_reply.started": "2025-04-02T05:58:11.738483Z"
    },
    "trusted": true
   },
   "outputs": [
    {
     "name": "stdout",
     "output_type": "stream",
     "text": [
      "complete matches: 775 / 1967, 0.3940010167768175\n"
     ]
    }
   ],
   "source": [
    "total_matches = (df['captcha_text'] == df['predicted_text_printed']).sum()\n",
    "\n",
    "print(f\"complete matches: {total_matches} / {len(df)}, {total_matches/len(df)}\")"
   ]
  },
  {
   "cell_type": "code",
   "execution_count": 19,
   "metadata": {
    "execution": {
     "iopub.execute_input": "2025-04-02T05:58:16.728805Z",
     "iopub.status.busy": "2025-04-02T05:58:16.728455Z",
     "iopub.status.idle": "2025-04-02T05:58:18.018084Z",
     "shell.execute_reply": "2025-04-02T05:58:18.017142Z",
     "shell.execute_reply.started": "2025-04-02T05:58:16.728774Z"
    },
    "trusted": true
   },
   "outputs": [
    {
     "data": {
      "text/html": [
       "<div>\n",
       "<style scoped>\n",
       "    .dataframe tbody tr th:only-of-type {\n",
       "        vertical-align: middle;\n",
       "    }\n",
       "\n",
       "    .dataframe tbody tr th {\n",
       "        vertical-align: top;\n",
       "    }\n",
       "\n",
       "    .dataframe thead th {\n",
       "        text-align: right;\n",
       "    }\n",
       "</style>\n",
       "<table border=\"1\" class=\"dataframe\">\n",
       "  <thead>\n",
       "    <tr style=\"text-align: right;\">\n",
       "      <th></th>\n",
       "      <th>filename</th>\n",
       "      <th>captcha_text</th>\n",
       "      <th>predicted_text_printed</th>\n",
       "      <th>chr_acc</th>\n",
       "      <th>chr_acc_med</th>\n",
       "    </tr>\n",
       "  </thead>\n",
       "  <tbody>\n",
       "    <tr>\n",
       "      <th>0</th>\n",
       "      <td>/kaggle/input/test-colour/test_cleaned_color_r...</td>\n",
       "      <td>q02a9jk</td>\n",
       "      <td>qo1a1r</td>\n",
       "      <td>2</td>\n",
       "      <td>0.285714</td>\n",
       "    </tr>\n",
       "    <tr>\n",
       "      <th>1</th>\n",
       "      <td>/kaggle/input/test-colour/test_cleaned_color_r...</td>\n",
       "      <td>nowqcrpn</td>\n",
       "      <td>nowqcrpn</td>\n",
       "      <td>8</td>\n",
       "      <td>1.000000</td>\n",
       "    </tr>\n",
       "    <tr>\n",
       "      <th>2</th>\n",
       "      <td>/kaggle/input/test-colour/test_cleaned_color_r...</td>\n",
       "      <td>jpquvw6</td>\n",
       "      <td>jpuvw6</td>\n",
       "      <td>2</td>\n",
       "      <td>0.857143</td>\n",
       "    </tr>\n",
       "    <tr>\n",
       "      <th>3</th>\n",
       "      <td>/kaggle/input/test-colour/test_cleaned_color_r...</td>\n",
       "      <td>4edetz3</td>\n",
       "      <td>4edetz3</td>\n",
       "      <td>7</td>\n",
       "      <td>1.000000</td>\n",
       "    </tr>\n",
       "    <tr>\n",
       "      <th>4</th>\n",
       "      <td>/kaggle/input/test-colour/test_cleaned_color_r...</td>\n",
       "      <td>l2dxd3</td>\n",
       "      <td>l2dxd3</td>\n",
       "      <td>6</td>\n",
       "      <td>1.000000</td>\n",
       "    </tr>\n",
       "    <tr>\n",
       "      <th>...</th>\n",
       "      <td>...</td>\n",
       "      <td>...</td>\n",
       "      <td>...</td>\n",
       "      <td>...</td>\n",
       "      <td>...</td>\n",
       "    </tr>\n",
       "    <tr>\n",
       "      <th>1962</th>\n",
       "      <td>/kaggle/input/test-colour/test_cleaned_color_r...</td>\n",
       "      <td>o1s3al0</td>\n",
       "      <td>o1a3al0</td>\n",
       "      <td>6</td>\n",
       "      <td>0.857143</td>\n",
       "    </tr>\n",
       "    <tr>\n",
       "      <th>1963</th>\n",
       "      <td>/kaggle/input/test-colour/test_cleaned_color_r...</td>\n",
       "      <td>x4ou7j</td>\n",
       "      <td>xqou1j</td>\n",
       "      <td>4</td>\n",
       "      <td>0.666667</td>\n",
       "    </tr>\n",
       "    <tr>\n",
       "      <th>1964</th>\n",
       "      <td>/kaggle/input/test-colour/test_cleaned_color_r...</td>\n",
       "      <td>lzjyzk9n</td>\n",
       "      <td>1zjyzk9v</td>\n",
       "      <td>6</td>\n",
       "      <td>0.750000</td>\n",
       "    </tr>\n",
       "    <tr>\n",
       "      <th>1965</th>\n",
       "      <td>/kaggle/input/test-colour/test_cleaned_color_r...</td>\n",
       "      <td>w7na</td>\n",
       "      <td>w7na</td>\n",
       "      <td>4</td>\n",
       "      <td>1.000000</td>\n",
       "    </tr>\n",
       "    <tr>\n",
       "      <th>1966</th>\n",
       "      <td>/kaggle/input/test-colour/test_cleaned_color_r...</td>\n",
       "      <td>hljv6</td>\n",
       "      <td>klfab</td>\n",
       "      <td>1</td>\n",
       "      <td>0.200000</td>\n",
       "    </tr>\n",
       "  </tbody>\n",
       "</table>\n",
       "<p>1967 rows × 5 columns</p>\n",
       "</div>"
      ],
      "text/plain": [
       "                                               filename captcha_text  \\\n",
       "0     /kaggle/input/test-colour/test_cleaned_color_r...      q02a9jk   \n",
       "1     /kaggle/input/test-colour/test_cleaned_color_r...     nowqcrpn   \n",
       "2     /kaggle/input/test-colour/test_cleaned_color_r...      jpquvw6   \n",
       "3     /kaggle/input/test-colour/test_cleaned_color_r...      4edetz3   \n",
       "4     /kaggle/input/test-colour/test_cleaned_color_r...       l2dxd3   \n",
       "...                                                 ...          ...   \n",
       "1962  /kaggle/input/test-colour/test_cleaned_color_r...      o1s3al0   \n",
       "1963  /kaggle/input/test-colour/test_cleaned_color_r...       x4ou7j   \n",
       "1964  /kaggle/input/test-colour/test_cleaned_color_r...     lzjyzk9n   \n",
       "1965  /kaggle/input/test-colour/test_cleaned_color_r...         w7na   \n",
       "1966  /kaggle/input/test-colour/test_cleaned_color_r...        hljv6   \n",
       "\n",
       "     predicted_text_printed  chr_acc  chr_acc_med  \n",
       "0                    qo1a1r        2     0.285714  \n",
       "1                  nowqcrpn        8     1.000000  \n",
       "2                    jpuvw6        2     0.857143  \n",
       "3                   4edetz3        7     1.000000  \n",
       "4                    l2dxd3        6     1.000000  \n",
       "...                     ...      ...          ...  \n",
       "1962                o1a3al0        6     0.857143  \n",
       "1963                 xqou1j        4     0.666667  \n",
       "1964               1zjyzk9v        6     0.750000  \n",
       "1965                   w7na        4     1.000000  \n",
       "1966                  klfab        1     0.200000  \n",
       "\n",
       "[1967 rows x 5 columns]"
      ]
     },
     "execution_count": 19,
     "metadata": {},
     "output_type": "execute_result"
    }
   ],
   "source": [
    "from nltk.metrics import edit_distance\n",
    "\n",
    "def char_accuracy_MED(actual, predicted):\n",
    "    return 1 - (edit_distance(actual, predicted) / max(len(actual), len(predicted)))\n",
    "\n",
    "chr_acc_med = [char_accuracy_MED(row['captcha_text'], row['predicted_text_printed']) for _, row in df.iterrows()]\n",
    "df['chr_acc_med'] = chr_acc_med\n",
    "df"
   ]
  },
  {
   "cell_type": "code",
   "execution_count": 20,
   "metadata": {
    "execution": {
     "iopub.execute_input": "2025-04-02T05:58:25.797186Z",
     "iopub.status.busy": "2025-04-02T05:58:25.796886Z",
     "iopub.status.idle": "2025-04-02T05:58:25.985075Z",
     "shell.execute_reply": "2025-04-02T05:58:25.984184Z",
     "shell.execute_reply.started": "2025-04-02T05:58:25.797165Z"
    },
    "trusted": true
   },
   "outputs": [
    {
     "data": {
      "image/png": "[encoded data removed]",
      "text/plain": [
       "<Figure size 800x600 with 1 Axes>"
      ]
     },
     "metadata": {},
     "output_type": "display_data"
    }
   ],
   "source": [
    "plt.figure(figsize=(8, 6))\n",
    "plt.hist(df['chr_acc_med'], bins=10, color='b', edgecolor='black')\n",
    "plt.xlabel('Accuracy')\n",
    "plt.ylabel('Frequency')\n",
    "plt.title('Distribution of Accuracy')\n",
    "plt.grid(True)\n",
    "plt.show()"
   ]
  },
  {
   "cell_type": "code",
   "execution_count": null,
   "metadata": {
    "trusted": true
   },
   "outputs": [],
   "source": [
    "df.to_csv(\"predictions_c_train_stag1_full_2epoch.csv\", index=False)"
   ]
  }
 ],
 "metadata": {
  "kaggle": {
   "accelerator": "none",
   "dataSources": [
    {
     "datasetId": 6931761,
     "sourceId": 11116916,
     "sourceType": "datasetVersion"
    },
    {
     "datasetId": 6933032,
     "sourceId": 11118533,
     "sourceType": "datasetVersion"
    },
    {
     "datasetId": 6936579,
     "sourceId": 11123346,
     "sourceType": "datasetVersion"
    },
    {
     "datasetId": 6936595,
     "sourceId": 11123370,
     "sourceType": "datasetVersion"
    },
    {
     "datasetId": 6951570,
     "sourceId": 11143861,
     "sourceType": "datasetVersion"
    },
    {
     "datasetId": 6951572,
     "sourceId": 11143865,
     "sourceType": "datasetVersion"
    }
   ],
   "isGpuEnabled": false,
   "isInternetEnabled": true,
   "language": "python",
   "sourceType": "notebook"
  },
  "kernelspec": {
   "display_name": "Python 3",
   "language": "python",
   "name": "python3"
  },
  "language_info": {
   "codemirror_mode": {
    "name": "ipython",
    "version": 3
   },
   "file_extension": ".py",
   "mimetype": "text/x-python",
   "name": "python",
   "nbconvert_exporter": "python",
   "pygments_lexer": "ipython3",
   "version": "3.10.12"
  }
 },
 "nbformat": 4,
 "nbformat_minor": 4
}
